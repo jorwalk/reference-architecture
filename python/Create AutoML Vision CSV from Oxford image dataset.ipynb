{
 "cells": [
  {
   "cell_type": "code",
   "execution_count": 23,
   "metadata": {},
   "outputs": [],
   "source": [
    "import os, csv"
   ]
  },
  {
   "cell_type": "code",
   "execution_count": 24,
   "metadata": {},
   "outputs": [],
   "source": [
    "def cat_dog(filename):\n",
    "    if(filename[0].isupper()):\n",
    "        return \"cat\"\n",
    "    else:\n",
    "        return \"dog\""
   ]
  },
  {
   "cell_type": "code",
   "execution_count": 27,
   "metadata": {},
   "outputs": [],
   "source": [
    "f = open('oxford_pets.csv', 'w')\n",
    "\n",
    "directory = \"/Users/jordanwalker/Downloads/ox-images\"\n",
    "\n",
    "with f:\n",
    "    fieldnames = ['pet']\n",
    "    writer = csv.DictWriter(f, fieldnames=fieldnames, quoting = csv.QUOTE_NONE, delimiter='|', quotechar='')\n",
    "    writer.writeheader()\n",
    "    \n",
    "    for filename in os.listdir(directory):\n",
    "        if filename.endswith(\".jpg\"): \n",
    "            # Determine if it's a cat or dog\n",
    "            pet = cat_dog(filename)\n",
    "            \n",
    "            # format the name to remove the number and lower case the label\n",
    "            split_name = filename.split(\"_\")\n",
    "            arr = split_name[:-1]\n",
    "            lower = [x.lower() for x in arr]\n",
    "            breed = \"_\".join(lower)\n",
    "            \n",
    "            base_str = \"gs://ociautomltest-vcm/oxford/{0},{1},{2}\"\n",
    "\n",
    "            entry = base_str.format(filename, pet, breed)\n",
    "            writer.writerow({'pet': entry})\n",
    "\n",
    "            continue\n",
    "        else:\n",
    "            continue"
   ]
  },
  {
   "cell_type": "code",
   "execution_count": null,
   "metadata": {},
   "outputs": [],
   "source": [
    "# import csv\n",
    "# f = open('dogs__labels.csv', 'w')\n",
    "with f:\n",
    "    fieldnames = ['pet']\n",
    "    writer = csv.DictWriter(f, fieldnames=fieldnames, quoting = csv.QUOTE_NONE, delimiter='|', quotechar='')\n",
    "    writer.writeheader()\n",
    "    \n",
    "# #     for doc in collection.find({\"type\":\"DOG\",\"state\":\"MO\", \"url_img\":{\"$ne\":\"\"}}).limit( 1244 ):\n",
    "#     for doc in collection.find({\"type\":\"DOG\",\"state\":\"MO\", \"url_img\":{\"$ne\":\"\"}}).limit( 1244 ):\n",
    "#         pet_type, age, gender, breed = desc_parse(doc['desc'])\n",
    "\n",
    "#         base_str = \"gs://ociautomltest-vcm/{0}.jpg,{1}\"\n",
    "    \n",
    "# #         entry = base_str.format(doc['id'], breed.replace(\" \", \"_\"))\n",
    "#         entry = base_str.format(doc['id'], \"DOG\")\n",
    "        \n",
    "#         writer.writerow({'pet': entry})\n",
    "#         writer.writerow(entry)\n",
    "#     requestImage(doc['url_img'])\n",
    "# CSV Format\n",
    "# gs://ociautomltest-vcm/flowers/images/5217892384_3edce91761_m.jpg,dandelion,tulip,rose"
   ]
  }
 ],
 "metadata": {
  "kernelspec": {
   "display_name": "Python 3",
   "language": "python",
   "name": "python3"
  },
  "language_info": {
   "codemirror_mode": {
    "name": "ipython",
    "version": 2
   },
   "file_extension": ".py",
   "mimetype": "text/x-python",
   "name": "python",
   "nbconvert_exporter": "python",
   "pygments_lexer": "ipython2",
   "version": "2.7.15"
  }
 },
 "nbformat": 4,
 "nbformat_minor": 2
}
