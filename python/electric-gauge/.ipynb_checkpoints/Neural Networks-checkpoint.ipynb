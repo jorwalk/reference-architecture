{
 "cells": [
  {
   "cell_type": "markdown",
   "metadata": {},
   "source": [
    "# ImageNet: VGGNet, ResNet, Inception, and Xception with Keras\n",
    "\n",
    "Explore an unsupervised, deep learning-based model. \n",
    "\n",
    "We are going to build a model-to-model recommender using thumbnail images for models as our input and the visual similarity between models as our recommendation score. \n",
    "\n",
    "Since our goal is to measure visual similarity, we will need to generate features from our images and then calculate some similarity measure between different images using said features. Back in the day, maybe one would employ fancy wavelets or SIFT keypoints or something for creating features, but this is the Era of Deep Learning and manual feature extraction is for old people.\n",
    "\n",
    "Staying on-trend, we will use a pretrained neural network (NN) to extract features. The NN was originally trained to classify images among 1000 labels (e.g. \"dog\", \"train\", etc...). We'll chop off the last 3 fully-connected layers of the network which do the final mapping between deep features and class labels and use the fourth-to-last layer as a long feature vector describing our images.\n",
    "\n",
    "Thankfully, all of this is extremely simple to do with the pretrained models in Keras. Keras allows one to easily build deep learning models on top of either Tensorflow or Theano. Keras also now comes with pretrained models that can be loaded and used. For more information about the available models, visit the Applications section of the documentation. For our purposes, we'll use the VGG16 model because that's what other people seemed to use and I don't know enough to have a compelling reason to stray from the norm.\n",
    "\n",
    "The goal of this image classification challenge is to train a model that can correctly classify an input image into 1,000 separate object categories.\n",
    "\n",
    "Models are trained on ~1.2 million training images with another 50,000 images for validation and 100,000 images for testing.\n",
    "\n",
    "These 1,000 image categories represent object classes that we encounter in our day-to-day lives, such as species of dogs, cats, various household objects, vehicle types, and much more. You can find the full list of object categories in the ILSVRC challenge here.\n",
    "\n",
    "When it comes to image classification, the ImageNet challenge is the de facto benchmark for computer vision classification algorithms — and the leaderboard for this challenge has been dominated by Convolutional Neural Networks and deep learning techniques since 2012.\n",
    "\n",
    "The state-of-the-art pre-trained networks included in the Keras core library represent some of the highest performing Convolutional Neural Networks on the ImageNet challenge over the past few years. These networks also demonstrate a strong ability to generalize to images outside the ImageNet dataset via transfer learning, such as feature extraction and fine-tuning.\n",
    "\n",
    "### What is ImageNet?\n",
    "ImageNet is formally a project aimed at (manually) labeling and categorizing images into almost 22,000 separate object categories for the purpose of computer vision research.\n",
    "\n",
    "However, when we hear the term “ImageNet” in the context of deep learning and Convolutional Neural Networks, we are likely referring to the ImageNet Large Scale Visual Recognition Challenge, or ILSVRC for short.\n",
    "\n",
    "The goal of this image classification challenge is to train a model that can correctly classify an input image into 1,000 separate object categories.\n",
    "\n",
    "Models are trained on ~1.2 million training images with another 50,000 images for validation and 100,000 images for testing.\n",
    "\n",
    "These 1,000 image categories represent object classes that we encounter in our day-to-day lives, such as species of dogs, cats, various household objects, vehicle types, and much more. You can find the full list of object categories in the ILSVRC challenge here.\n",
    "\n",
    "When it comes to image classification, the ImageNet challenge is the de facto benchmark for computer vision classification algorithms — and the leaderboard for this challenge has been dominated by Convolutional Neural Networks and deep learning techniques since 2012.\n",
    "\n",
    "The state-of-the-art pre-trained networks included in the Keras core library represent some of the highest performing Convolutional Neural Networks on the ImageNet challenge over the past few years. These networks also demonstrate a strong ability to generalize to images outside the ImageNet dataset via transfer learning, such as feature extraction and fine-tuning."
   ]
  },
  {
   "cell_type": "markdown",
   "metadata": {},
   "source": [
    "## VGG16 & VGG19\n",
    "In 2014, 16 and 19 layer networks were considered very deep (although we now have the ResNet architecture which can be successfully trained at depths of 50-200 for ImageNet and over 1,000 for CIFAR-10).\n",
    "\n",
    "Simonyan and Zisserman found training VGG16 and VGG19 challenging (specifically regarding convergence on the deeper networks), so in order to make training easier, they first trained smaller versions of VGG with less weight layers (columns A and C) first.\n",
    "\n",
    "The smaller networks converged and were then used as initializations for the larger, deeper networks — this process is called pre-training.\n",
    "\n",
    "While making logical sense, pre-training is a very time consuming, tedious task, requiring an entire network to be trained before it can serve as an initialization for a deeper network.\n",
    "\n",
    "We no longer use pre-training (in most cases) and instead prefer Xaiver/Glorot initialization or MSRA initialization (sometimes called He et al. initialization from the paper, Delving Deep into Rectifiers: Surpassing Human-Level Performance on ImageNet Classification). You can read more about the importance of weight initialization and the convergence of deep neural networks inside All you need is a good init, Mishkin and Matas (2015).\n",
    "\n",
    "Unfortunately, there are two major drawbacks with VGGNet:\n",
    "\n",
    "It is painfully slow to train.\n",
    "The network architecture weights themselves are quite large (in terms of disk/bandwidth).\n",
    "Due to its depth and number of fully-connected nodes, VGG is over 533MB for VGG16 and 574MB for VGG19. This makes deploying VGG a tiresome task.\n",
    "\n",
    "We still use VGG in many deep learning image classification problems; however, smaller network architectures are often more desirable (such as SqueezeNet, GoogLeNet, etc.).\n",
    "\n",
    "\n",
    "## ResNet50\n",
    "Unlike traditional sequential network architectures such as AlexNet, OverFeat, and VGG, ResNet is instead a form of “exotic architecture” that relies on micro-architecture modules (also called “network-in-network architectures”).\n",
    "\n",
    "The term micro-architecture refers to the set of “building blocks” used to construct the network. A collection of micro-architecture building blocks (along with your standard CONV, POOL, etc. layers) leads to the macro-architecture (i.e,. the end network itself).\n",
    "\n",
    "First introduced by He et al. in their 2015 paper, Deep Residual Learning for Image Recognition, the ResNet architecture has become a seminal work, demonstrating that extremely deep networks can be trained using standard SGD (and a reasonable initialization function) through the use of residual modules:\n",
    "\n",
    "Further accuracy can be obtained by updating the residual module to use identity mappings, as demonstrated in their 2016 followup publication, Identity Mappings in Deep Residual Networks:\n",
    "\n",
    "That said, keep in mind that the ResNet50 (as in 50 weight layers) implementation in the Keras core is based on the former 2015 paper.\n",
    "\n",
    "Even though ResNet is much deeper than VGG16 and VGG19, the model size is actually substantially smaller due to the usage of global average pooling rather than fully-connected layers — this reduces the model size down to 102MB for ResNet50.\n",
    "\n",
    "## Inception V3\n",
    "The “Inception” micro-architecture was first introduced by Szegedy et al. in their 2014 paper, Going Deeper with Convolutions:\n",
    "\n",
    "The goal of the inception module is to act as a “multi-level feature extractor” by computing 1×1, 3×3, and 5×5 convolutions within the same module of the network — the output of these filters are then stacked along the channel dimension and before being fed into the next layer in the network.\n",
    "\n",
    "The original incarnation of this architecture was called GoogLeNet, but subsequent manifestations have simply been called Inception vN where N refers to the version number put out by Google.\n",
    "\n",
    "The Inception V3 architecture included in the Keras core comes from the later publication by Szegedy et al., Rethinking the Inception Architecture for Computer Vision (2015) which proposes updates to the inception module to further boost ImageNet classification accuracy.\n",
    "\n",
    "The weights for Inception V3 are smaller than both VGG and ResNet, coming in at 96MB.\n",
    "\n",
    "## Xception\n",
    "Xception was proposed by none other than François Chollet himself, the creator and chief maintainer of the Keras library.\n",
    "\n",
    "Xception is an extension of the Inception architecture which replaces the standard Inception modules with depthwise separable convolutions.\n",
    "\n",
    "The original publication, Xception: Deep Learning with Depthwise Separable Convolutions can be found here.\n",
    "\n",
    "Xception sports the smallest weight serialization at only 91MB."
   ]
  },
  {
   "cell_type": "markdown",
   "metadata": {},
   "source": [
    "## Import Libraries"
   ]
  },
  {
   "cell_type": "code",
   "execution_count": 39,
   "metadata": {},
   "outputs": [],
   "source": [
    "import sys, requests, os, glob, pickle, time, PIL, pprint\n",
    "import numpy as np\n",
    "np.seterr(divide='ignore', invalid='ignore')\n",
    "import pandas as pd\n",
    "\n",
    "from IPython.display import display, Image, HTML\n",
    "from keras.models import load_model\n",
    "from keras.applications import imagenet_utils\n",
    "from keras.applications import VGG16\n",
    "from keras.applications.vgg16 import preprocess_input\n",
    "from keras.applications.vgg16 import decode_predictions\n",
    "from keras.applications import ResNet50\n",
    "from keras.applications import InceptionV3\n",
    "from keras.applications.inception_v3 import preprocess_input\n",
    "from keras.applications import Xception # TensorFlow ONLY\n",
    "from keras.applications import VGG19\n",
    "from keras.applications import InceptionResNetV2\n",
    "from keras.applications import imagenet_utils\n",
    "from keras.preprocessing import image as kimage\n",
    "from scipy.sparse import lil_matrix as little_matrix\n",
    "from skimage import io\n",
    "from matplotlib import pyplot\n",
    "\n",
    "sys.path.append('../')"
   ]
  },
  {
   "cell_type": "markdown",
   "metadata": {},
   "source": [
    "## Read Sample Image"
   ]
  },
  {
   "cell_type": "code",
   "execution_count": 2,
   "metadata": {},
   "outputs": [
    {
     "data": {
      "text/plain": [
       "(150, 150, 4)"
      ]
     },
     "execution_count": 2,
     "metadata": {},
     "output_type": "execute_result"
    }
   ],
   "source": [
    "file = './gauges/gauge_rot_3.png'\n",
    "img = io.imread(file)\n",
    "img.shape"
   ]
  },
  {
   "cell_type": "code",
   "execution_count": 3,
   "metadata": {},
   "outputs": [
    {
     "data": {
      "image/png": "[encoded data removed]",
      "text/plain": [
       "<IPython.core.display.Image object>"
      ]
     },
     "execution_count": 3,
     "metadata": {},
     "output_type": "execute_result"
    }
   ],
   "source": [
    "Image(filename=file) "
   ]
  },
  {
   "cell_type": "code",
   "execution_count": 4,
   "metadata": {
    "scrolled": true
   },
   "outputs": [
    {
     "name": "stdout",
     "output_type": "stream",
     "text": [
      "(1, 224, 224, 3)\n"
     ]
    }
   ],
   "source": [
    "img = kimage.load_img(file, target_size=(224, 224))\n",
    "x = kimage.img_to_array(img)\n",
    "x = np.expand_dims(x, axis=0)\n",
    "x = preprocess_input(x)\n",
    "print(x.shape)"
   ]
  },
  {
   "cell_type": "markdown",
   "metadata": {},
   "source": [
    "We see that the image can be represented as a 3D matrix through two spatial dimensions (224 x 224) and then a third RGB dimension. We have to do a couple of preprocessing steps before feeding an image through the model. The images must be resized to 224 x 224, the color channels must be normalized, and an extra dimension must be added due to Keras expecting to recieve multiple models. Thankfully, Keras has built-in functions to handle most of this."
   ]
  },
  {
   "cell_type": "markdown",
   "metadata": {},
   "source": [
    "## Define NN models with imagenet weights"
   ]
  },
  {
   "cell_type": "code",
   "execution_count": 40,
   "metadata": {},
   "outputs": [
    {
     "name": "stdout",
     "output_type": "stream",
     "text": [
      "Downloading data from https://github.com/fchollet/deep-learning-models/releases/download/v0.7/inception_resnet_v2_weights_tf_dim_ordering_tf_kernels_notop.h5\n",
      "219062272/219055592 [==============================] - 28s 0us/step\n",
      "219070464/219055592 [==============================] - 28s 0us/step\n"
     ]
    }
   ],
   "source": [
    "model_vgg16 = VGG16(include_top=False, weights='imagenet')\n",
    "model_vgg19 = VGG19(include_top=False, weights='imagenet')\n",
    "model_resnet50 = ResNet50(include_top=False, weights='imagenet')\n",
    "model_inception = InceptionV3(include_top=False, weights='imagenet')\n",
    "model_inception_res_net = InceptionResNetV2(include_top=False, weights='imagenet')\n",
    "model_xception = Xception(include_top=False, weights='imagenet')"
   ]
  },
  {
   "cell_type": "markdown",
   "metadata": {},
   "source": [
    "### Prediction for one image"
   ]
  },
  {
   "cell_type": "code",
   "execution_count": 6,
   "metadata": {},
   "outputs": [
    {
     "name": "stdout",
     "output_type": "stream",
     "text": [
      "(1, 7, 7, 512)\n",
      "(25088,)\n"
     ]
    }
   ],
   "source": [
    "# VGG 16\n",
    "pred_vgg16 = model_vgg16.predict(x)\n",
    "print(pred_vgg16.shape)\n",
    "print(pred_vgg16.ravel().shape)"
   ]
  },
  {
   "cell_type": "code",
   "execution_count": 7,
   "metadata": {},
   "outputs": [
    {
     "name": "stdout",
     "output_type": "stream",
     "text": [
      "(1, 7, 7, 512)\n",
      "(25088,)\n"
     ]
    }
   ],
   "source": [
    "# VGG 19\n",
    "pred_vgg19 = model_vgg19.predict(x)\n",
    "print(pred_vgg19.shape)\n",
    "# Return a contiguous flattened array.\n",
    "print(pred_vgg19.ravel().shape)"
   ]
  },
  {
   "cell_type": "code",
   "execution_count": 8,
   "metadata": {},
   "outputs": [
    {
     "name": "stdout",
     "output_type": "stream",
     "text": [
      "(1, 7, 7, 2048)\n",
      "(100352,)\n"
     ]
    }
   ],
   "source": [
    "# ResNet50\n",
    "pred_resnet50 = model_resnet50.predict(x)\n",
    "print(pred_resnet50.shape)\n",
    "# Return a contiguous flattened array.\n",
    "print(pred_resnet50.ravel().shape)"
   ]
  },
  {
   "cell_type": "code",
   "execution_count": 9,
   "metadata": {},
   "outputs": [
    {
     "name": "stdout",
     "output_type": "stream",
     "text": [
      "(1, 5, 5, 2048)\n",
      "(51200,)\n"
     ]
    }
   ],
   "source": [
    "# InceptionV3\n",
    "pred_inception = model_inception.predict(x)\n",
    "print(pred_inception.shape)\n",
    "print(pred_inception.ravel().shape)"
   ]
  },
  {
   "cell_type": "code",
   "execution_count": 10,
   "metadata": {},
   "outputs": [
    {
     "name": "stdout",
     "output_type": "stream",
     "text": [
      "(1, 7, 7, 2048)\n",
      "(100352,)\n"
     ]
    }
   ],
   "source": [
    "# Xception\n",
    "pred_xception = model_xception.predict(x)\n",
    "print(pred_xception.shape)\n",
    "print(pred_xception.ravel().shape)"
   ]
  },
  {
   "cell_type": "code",
   "execution_count": 41,
   "metadata": {},
   "outputs": [
    {
     "name": "stdout",
     "output_type": "stream",
     "text": [
      "(1, 5, 5, 1536)\n",
      "(38400,)\n"
     ]
    }
   ],
   "source": [
    "# InceptionResNetV2\n",
    "pred_inception_res_net = model_inception_res_net.predict(x)\n",
    "print(pred_inception_res_net.shape)\n",
    "print(pred_inception_res_net.ravel().shape)"
   ]
  },
  {
   "cell_type": "markdown",
   "metadata": {},
   "source": [
    "### How long does it take to run a single model through the NN"
   ]
  },
  {
   "cell_type": "code",
   "execution_count": 11,
   "metadata": {},
   "outputs": [
    {
     "name": "stdout",
     "output_type": "stream",
     "text": [
      "25 loops, best of 3: 214 ms per loop\n"
     ]
    }
   ],
   "source": [
    "%%timeit -n25\n",
    "pred_vgg16 = model_vgg16.predict(x)\n",
    "# VGG 16"
   ]
  },
  {
   "cell_type": "code",
   "execution_count": 12,
   "metadata": {},
   "outputs": [
    {
     "name": "stdout",
     "output_type": "stream",
     "text": [
      "25 loops, best of 3: 275 ms per loop\n"
     ]
    }
   ],
   "source": [
    "%%timeit -n25\n",
    "pred_vgg19 = model_vgg19.predict(x) \n",
    "# VGG 19"
   ]
  },
  {
   "cell_type": "code",
   "execution_count": 13,
   "metadata": {},
   "outputs": [
    {
     "name": "stdout",
     "output_type": "stream",
     "text": [
      "25 loops, best of 3: 197 ms per loop\n"
     ]
    }
   ],
   "source": [
    "%%timeit -n25\n",
    "pred_resnet50 = model_resnet50.predict(x) \n",
    "# ResNet50"
   ]
  },
  {
   "cell_type": "code",
   "execution_count": 14,
   "metadata": {},
   "outputs": [
    {
     "name": "stdout",
     "output_type": "stream",
     "text": [
      "25 loops, best of 3: 114 ms per loop\n"
     ]
    }
   ],
   "source": [
    "%%timeit -n25\n",
    "pred_inception = model_inception.predict(x)\n",
    "# InceptionV3"
   ]
  },
  {
   "cell_type": "code",
   "execution_count": 15,
   "metadata": {},
   "outputs": [
    {
     "name": "stdout",
     "output_type": "stream",
     "text": [
      "25 loops, best of 3: 167 ms per loop\n"
     ]
    }
   ],
   "source": [
    "%%timeit -n25\n",
    "pred_xception = model_xception.predict(x)\n",
    "# Xception"
   ]
  },
  {
   "cell_type": "markdown",
   "metadata": {},
   "source": [
    "### Feed images through NN\n",
    "With our set of valid model IDs in hand, we can now run through the long process of loading in all of the image files, preprocessing them, and running them through the VGG prediction. This takes a long time, and certain steps blowup memory. I've decided to batch things up below and include some print statements so that one can track progress. Beware: this takes a long time!"
   ]
  },
  {
   "cell_type": "code",
   "execution_count": 43,
   "metadata": {},
   "outputs": [],
   "source": [
    "idx_to_mid = {}\n",
    "directory = 'gauges'\n",
    "\n",
    "def train_neural_network(pred, model):\n",
    "    # Iterate over the folder to catalog the images\n",
    "    items=[]\n",
    "    for filename in os.listdir(directory):\n",
    "        if filename.endswith(\".jpg\") or filename.endswith(\".png\"):\n",
    "            items.append(filename)\n",
    "    # Define variables for training\n",
    "    batch_size = 360\n",
    "    min_idx = 0\n",
    "    max_idx = min_idx + batch_size\n",
    "    total_max = len(items)\n",
    "    print(total_max)\n",
    "    n_dims = pred.ravel().shape[0]\n",
    "    px = 224\n",
    "    # Initialize predictions matrix\n",
    "    preds = little_matrix((len(items), n_dims))\n",
    "\n",
    "    while min_idx < total_max - 1:\n",
    "        t0 = time.time()\n",
    "        X = np.zeros(((max_idx - min_idx), px, px, 3))\n",
    "        # For each file in batch, \n",
    "        # load as row into X\n",
    "        for i in range(min_idx, max_idx):\n",
    "            item = items[i]\n",
    "            idx_to_mid[i] = item\n",
    "\n",
    "            image='./'+ directory +'/'+item\n",
    "            img = kimage.load_img(image, target_size=(px, px))\n",
    "            img_array = kimage.img_to_array(img)\n",
    "\n",
    "            X[i - min_idx, :, :, :] = img_array\n",
    "            if i % 200 == 0 and i != 0:\n",
    "                t1 = time.time()\n",
    "                print('{}: {}'.format(i, (t1 - t0) / i))\n",
    "                t0 = time.time()\n",
    "\n",
    "        max_idx = i\n",
    "        t1 = time.time()\n",
    "        print('{}: {}'.format(i, (t1 - t0) / i))\n",
    "\n",
    "        t0 = time.time()\n",
    "        X = preprocess_input(X)\n",
    "        t1 = time.time()\n",
    "        print('Preprocess input time: {}'.format(t1 - t0))\n",
    "\n",
    "        print('Predicting')\n",
    "        t0 = time.time()\n",
    "        these_preds = model.predict(X)\n",
    "        shp = ((max_idx - min_idx) + 1, n_dims)\n",
    "\n",
    "        # Place predictions inside full preds matrix.\n",
    "        preds[min_idx:max_idx + 1, :] = these_preds.reshape(shp)\n",
    "\n",
    "        t1 = time.time()\n",
    "        print('Total time: {}'.format(t1 - t0))\n",
    "\n",
    "        min_idx = max_idx\n",
    "        max_idx = np.min((max_idx + batch_size, total_max))\n",
    "        \n",
    "        return preds"
   ]
  },
  {
   "cell_type": "code",
   "execution_count": 17,
   "metadata": {},
   "outputs": [],
   "source": [
    "# The point of using Euclidean similarity metrics in vector space co-embeddings is that it reduces the \n",
    "# recommendation problem to one of finding the nearest neighbors, which can be done efficiently both \n",
    "# exactly and approximately. \n",
    "\n",
    "def cosine_similarity(ratings):\n",
    "    sim = ratings.dot(ratings.T)\n",
    "    if not isinstance(sim, np.ndarray):\n",
    "        sim = sim.toarray()\n",
    "    norms = np.array([np.sqrt(np.diagonal(sim))])\n",
    "    return (sim / norms / norms.T)"
   ]
  },
  {
   "cell_type": "code",
   "execution_count": 18,
   "metadata": {},
   "outputs": [],
   "source": [
    "from IPython.display import SVG\n",
    "from keras.utils.vis_utils import model_to_dot\n",
    "from keras.utils import plot_model\n",
    "\n",
    "def model_visualization(model, readable):\n",
    "    filename = '{0}_model.png'.format(readable)\n",
    "    plot_model(model, to_file=filename)\n",
    "\n",
    "def model_visualization_inline(model):\n",
    "    return SVG(model_to_dot(model).create(prog='dot', format='svg'))"
   ]
  },
  {
   "cell_type": "code",
   "execution_count": 19,
   "metadata": {},
   "outputs": [],
   "source": [
    "def get_thumbnails(sim, idx, idx_to_mid, N=10):\n",
    "    row = sim[idx, :]\n",
    "    thumbs = []\n",
    "    mids = []\n",
    "    for x in np.argsort(-row)[:N]:\n",
    "        thumbs.append(idx_to_mid[x])\n",
    "        mids.append(idx_to_mid[x])\n",
    "    return thumbs, mids\n",
    "\n",
    "def display_thumbs(thumbs, mids, N=5):\n",
    "    directory = 'gauges'\n",
    "    thumb_html = \"<a href='{0}' target='_blank'><p>{2}</p><img style='width: 300px; margin: 0px; \\\n",
    "                  float: left; border: 1px solid black; display:inline-block' \\\n",
    "                  src='./gauges/{1}' /></a>\"\n",
    "    images = \"<div class='line' style='max-width: 1024px; display: block;'>\"\n",
    "    display(HTML('<font size=5>'+'Input Model'+'</font>'))\n",
    "    link = './'+ directory +'/{}'.format(mids[0])\n",
    "    url = thumbs[0]\n",
    "    display(HTML(thumb_html.format(link, url, url)))\n",
    "    display(HTML('<font size=5>'+'Similar Models'+'</font>'))\n",
    "\n",
    "    for (url, mid) in zip(thumbs[1:N+1], mids[1:N+1]):\n",
    "        link = './'+ directory +'/{}'.format(mid)\n",
    "        images += thumb_html.format(link, url, url)\n",
    "\n",
    "    images += '</div>'\n",
    "    display(HTML(images))"
   ]
  },
  {
   "cell_type": "code",
   "execution_count": 24,
   "metadata": {},
   "outputs": [],
   "source": [
    "def neural_network(pred, model, readable):\n",
    "    preds_train = train_neural_network(pred, model)\n",
    "    # Return a copy of this matrix in Compressed Sparse Row format\n",
    "    preds = preds_train.tocsr()\n",
    "\n",
    "    # Compute cosine similarity\n",
    "    sim = cosine_similarity(preds)\n",
    "    \n",
    "    # Create a .png visualization\n",
    "    model_visualization(model, readable)\n",
    "    \n",
    "    model_visualization_inline(model)\n",
    "    \n",
    "    display_thumbs(*get_thumbnails(sim, 210, idx_to_mid, N=6), N=6)"
   ]
  },
  {
   "cell_type": "code",
   "execution_count": null,
   "metadata": {},
   "outputs": [],
   "source": [
    "# VGG 16\n",
    "neural_network(pred_vgg16, model_vgg16, 'vgg16')"
   ]
  },
  {
   "cell_type": "code",
   "execution_count": null,
   "metadata": {},
   "outputs": [],
   "source": [
    "# VGG 19\n",
    "neural_network(pred_vgg19, model_vgg19, 'vgg19')"
   ]
  },
  {
   "cell_type": "code",
   "execution_count": null,
   "metadata": {},
   "outputs": [],
   "source": [
    "# ResNet50\n",
    "neural_network(pred_resnet50, model_resnet50, 'resnet50')"
   ]
  },
  {
   "cell_type": "code",
   "execution_count": 47,
   "metadata": {},
   "outputs": [
    {
     "name": "stdout",
     "output_type": "stream",
     "text": [
      "361\n",
      "200: 0.00198500037193\n",
      "359: 0.000838797072514\n",
      "Preprocess input time: 0.122531890869\n",
      "Predicting\n",
      "Total time: 42.0574810505\n"
     ]
    },
    {
     "data": {
      "text/html": [
       "<font size=5>Input Model</font>"
      ],
      "text/plain": [
       "<IPython.core.display.HTML object>"
      ]
     },
     "metadata": {},
     "output_type": "display_data"
    },
    {
     "data": {
      "text/html": [
       "<a href='./gauges/gauge_rot_120.png' target='_blank'><p>gauge_rot_120.png</p><img style='width: 300px; margin: 0px;                   float: left; border: 1px solid black; display:inline-block'                   src='./gauges/gauge_rot_120.png' /></a>"
      ],
      "text/plain": [
       "<IPython.core.display.HTML object>"
      ]
     },
     "metadata": {},
     "output_type": "display_data"
    },
    {
     "data": {
      "text/html": [
       "<font size=5>Similar Models</font>"
      ],
      "text/plain": [
       "<IPython.core.display.HTML object>"
      ]
     },
     "metadata": {},
     "output_type": "display_data"
    },
    {
     "data": {
      "text/html": [
       "<div class='line' style='max-width: 1024px; display: block;'><a href='./gauges/gauge_rot_121.png' target='_blank'><p>gauge_rot_121.png</p><img style='width: 300px; margin: 0px;                   float: left; border: 1px solid black; display:inline-block'                   src='./gauges/gauge_rot_121.png' /></a><a href='./gauges/gauge_rot_119.png' target='_blank'><p>gauge_rot_119.png</p><img style='width: 300px; margin: 0px;                   float: left; border: 1px solid black; display:inline-block'                   src='./gauges/gauge_rot_119.png' /></a><a href='./gauges/gauge_rot_118.png' target='_blank'><p>gauge_rot_118.png</p><img style='width: 300px; margin: 0px;                   float: left; border: 1px solid black; display:inline-block'                   src='./gauges/gauge_rot_118.png' /></a><a href='./gauges/gauge_rot_122.png' target='_blank'><p>gauge_rot_122.png</p><img style='width: 300px; margin: 0px;                   float: left; border: 1px solid black; display:inline-block'                   src='./gauges/gauge_rot_122.png' /></a><a href='./gauges/gauge_rot_124.png' target='_blank'><p>gauge_rot_124.png</p><img style='width: 300px; margin: 0px;                   float: left; border: 1px solid black; display:inline-block'                   src='./gauges/gauge_rot_124.png' /></a></div>"
      ],
      "text/plain": [
       "<IPython.core.display.HTML object>"
      ]
     },
     "metadata": {},
     "output_type": "display_data"
    }
   ],
   "source": [
    "# InceptionV3\n",
    "neural_network(pred_inception, model_inception, 'inception')"
   ]
  },
  {
   "cell_type": "code",
   "execution_count": null,
   "metadata": {},
   "outputs": [],
   "source": [
    "# Xception\n",
    "neural_network(pred_xception, model_xception, 'xception')"
   ]
  },
  {
   "cell_type": "code",
   "execution_count": 48,
   "metadata": {},
   "outputs": [
    {
     "name": "stdout",
     "output_type": "stream",
     "text": [
      "361\n",
      "200: 0.00200429439545\n",
      "359: 0.000614526212049\n",
      "Preprocess input time: 0.107841014862\n",
      "Predicting\n",
      "Total time: 73.0509848595\n"
     ]
    },
    {
     "data": {
      "text/html": [
       "<font size=5>Input Model</font>"
      ],
      "text/plain": [
       "<IPython.core.display.HTML object>"
      ]
     },
     "metadata": {},
     "output_type": "display_data"
    },
    {
     "data": {
      "text/html": [
       "<a href='./gauges/gauge_rot_120.png' target='_blank'><p>gauge_rot_120.png</p><img style='width: 300px; margin: 0px;                   float: left; border: 1px solid black; display:inline-block'                   src='./gauges/gauge_rot_120.png' /></a>"
      ],
      "text/plain": [
       "<IPython.core.display.HTML object>"
      ]
     },
     "metadata": {},
     "output_type": "display_data"
    },
    {
     "data": {
      "text/html": [
       "<font size=5>Similar Models</font>"
      ],
      "text/plain": [
       "<IPython.core.display.HTML object>"
      ]
     },
     "metadata": {},
     "output_type": "display_data"
    },
    {
     "data": {
      "text/html": [
       "<div class='line' style='max-width: 1024px; display: block;'><a href='./gauges/gauge_rot_116.png' target='_blank'><p>gauge_rot_116.png</p><img style='width: 300px; margin: 0px;                   float: left; border: 1px solid black; display:inline-block'                   src='./gauges/gauge_rot_116.png' /></a><a href='./gauges/gauge_rot_117.png' target='_blank'><p>gauge_rot_117.png</p><img style='width: 300px; margin: 0px;                   float: left; border: 1px solid black; display:inline-block'                   src='./gauges/gauge_rot_117.png' /></a><a href='./gauges/gauge_rot_124.png' target='_blank'><p>gauge_rot_124.png</p><img style='width: 300px; margin: 0px;                   float: left; border: 1px solid black; display:inline-block'                   src='./gauges/gauge_rot_124.png' /></a><a href='./gauges/gauge_rot_113.png' target='_blank'><p>gauge_rot_113.png</p><img style='width: 300px; margin: 0px;                   float: left; border: 1px solid black; display:inline-block'                   src='./gauges/gauge_rot_113.png' /></a><a href='./gauges/gauge_rot_115.png' target='_blank'><p>gauge_rot_115.png</p><img style='width: 300px; margin: 0px;                   float: left; border: 1px solid black; display:inline-block'                   src='./gauges/gauge_rot_115.png' /></a></div>"
      ],
      "text/plain": [
       "<IPython.core.display.HTML object>"
      ]
     },
     "metadata": {},
     "output_type": "display_data"
    }
   ],
   "source": [
    "# InceptionResNetV2\n",
    "neural_network(pred_inception_res_net, model_inception_res_net, 'inception_res_net')"
   ]
  },
  {
   "cell_type": "code",
   "execution_count": null,
   "metadata": {},
   "outputs": [],
   "source": []
  },
  {
   "cell_type": "code",
   "execution_count": 46,
   "metadata": {},
   "outputs": [
    {
     "name": "stdout",
     "output_type": "stream",
     "text": [
      "[[[[   0.        330.46585    48.212666 ...    0.          0.\n",
      "      30.828505]\n",
      "   [   0.        148.0372      0.       ...    0.          0.\n",
      "     163.17685 ]\n",
      "   [   0.        377.6498      0.       ...  159.14447     0.\n",
      "       0.      ]\n",
      "   ...\n",
      "   [   0.          0.          0.       ...   30.9662      0.\n",
      "       0.      ]\n",
      "   [   0.         11.793795    0.       ... 1179.2424      0.\n",
      "     458.02097 ]\n",
      "   [ 586.90753   139.57101    56.207417 ... 1356.8796    997.93134\n",
      "     147.61572 ]]\n",
      "\n",
      "  [[   0.        126.60369     0.       ...    0.          0.\n",
      "     419.238   ]\n",
      "   [   0.          0.         32.50575  ...    0.          0.\n",
      "     633.5808  ]\n",
      "   [   0.          0.          0.       ...  293.64224     0.\n",
      "     606.61035 ]\n",
      "   ...\n",
      "   [   0.          0.         10.168309 ...  441.35013     0.\n",
      "     259.38687 ]\n",
      "   [   0.          0.        210.80286  ... 1550.4058      0.\n",
      "     690.337   ]\n",
      "   [   5.44657     0.        608.5773   ...  236.36578     0.\n",
      "     329.18216 ]]\n",
      "\n",
      "  [[   0.         48.60335     0.       ...  449.15677     0.\n",
      "       0.      ]\n",
      "   [   0.          0.          0.       ...    0.        163.86298\n",
      "     362.05234 ]\n",
      "   [   0.          0.          0.       ...    0.        495.19412\n",
      "     527.6653  ]\n",
      "   ...\n",
      "   [   0.          0.          0.       ...    0.          0.\n",
      "       0.      ]\n",
      "   [   0.          0.          0.       ...    0.          0.\n",
      "       0.      ]\n",
      "   [ 282.34436     0.          0.       ... 2211.1577      0.\n",
      "     626.2237  ]]\n",
      "\n",
      "  ...\n",
      "\n",
      "  [[ 323.05542     0.          0.       ...   48.972565    0.\n",
      "     390.94504 ]\n",
      "   [ 143.44275     0.          0.       ...    0.        169.13965\n",
      "       0.      ]\n",
      "   [   0.          0.          0.       ...   56.235703  151.6111\n",
      "      29.438757]\n",
      "   ...\n",
      "   [   0.          0.       2602.2239   ...  483.5842      0.\n",
      "       0.      ]\n",
      "   [  24.848997    0.       2178.2297   ...  505.60916     0.\n",
      "       0.      ]\n",
      "   [ 188.09912     0.          0.       ...    0.        225.06454\n",
      "     152.85992 ]]\n",
      "\n",
      "  [[  10.483081    0.          0.       ...    0.          0.\n",
      "      71.85386 ]\n",
      "   [  77.31349     0.          0.       ...  327.67926    63.076748\n",
      "     387.79053 ]\n",
      "   [   0.          0.          0.       ...    0.          0.\n",
      "       0.      ]\n",
      "   ...\n",
      "   [   0.          0.       1873.2329   ...  470.06094   464.76086\n",
      "       0.      ]\n",
      "   [ 233.85252     0.          0.       ...  307.31284     0.\n",
      "       0.      ]\n",
      "   [ 740.31885     0.          0.       ...    0.       1186.9946\n",
      "       0.      ]]\n",
      "\n",
      "  [[   0.        292.51804     0.       ...    0.          0.\n",
      "       0.      ]\n",
      "   [   0.        432.6928      0.       ...  135.62193   117.29592\n",
      "       0.      ]\n",
      "   [   0.        506.02985     0.       ...    0.          0.\n",
      "       0.      ]\n",
      "   ...\n",
      "   [ 166.53638  1538.8888      0.       ...    0.          0.\n",
      "       0.      ]\n",
      "   [ 452.97928   262.27713     0.       ...    0.          0.\n",
      "       0.      ]\n",
      "   [ 908.6935    541.052       0.       ...    0.       1451.1732\n",
      "       0.      ]]]]\n"
     ]
    }
   ],
   "source": [
    "# Extract features from an arbitrary intermediate layer with VGG19\n",
    "from keras.applications.vgg19 import VGG19\n",
    "from keras.preprocessing import image\n",
    "from keras.applications.vgg19 import preprocess_input\n",
    "from keras.models import Model\n",
    "import numpy as np\n",
    "\n",
    "base_model = VGG19(weights='imagenet')\n",
    "model = Model(inputs=base_model.input, outputs=base_model.get_layer('block4_pool').output)\n",
    "\n",
    "img_path = 'original_gauge.png'\n",
    "img = image.load_img(img_path, target_size=(224, 224))\n",
    "x = image.img_to_array(img)\n",
    "x = np.expand_dims(x, axis=0)\n",
    "x = preprocess_input(x)\n",
    "\n",
    "block4_pool_features = model.predict(x)"
   ]
  },
  {
   "cell_type": "code",
   "execution_count": null,
   "metadata": {},
   "outputs": [],
   "source": []
  }
 ],
 "metadata": {
  "anaconda-cloud": {},
  "kernelspec": {
   "display_name": "Python 3",
   "language": "python",
   "name": "python3"
  },
  "language_info": {
   "codemirror_mode": {
    "name": "ipython",
    "version": 3
   },
   "file_extension": ".py",
   "mimetype": "text/x-python",
   "name": "python",
   "nbconvert_exporter": "python",
   "pygments_lexer": "ipython3",
   "version": "3.6.5"
  }
 },
 "nbformat": 4,
 "nbformat_minor": 1
}
