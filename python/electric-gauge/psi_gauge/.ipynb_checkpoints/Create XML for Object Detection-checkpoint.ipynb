{
 "cells": [
  {
   "cell_type": "markdown",
   "metadata": {},
   "source": [
    "## Create XML for Object Dection"
   ]
  },
  {
   "cell_type": "code",
   "execution_count": null,
   "metadata": {},
   "outputs": [],
   "source": [
    "import glob\n",
    "import xml.etree.ElementTree as ET"
   ]
  },
  {
   "cell_type": "code",
   "execution_count": null,
   "metadata": {},
   "outputs": [],
   "source": [
    "# Define constants\n",
    "FOLDER = 'images'\n",
    "PATH = '/Users/jordanwalker/Code/reference-architecture/python/electric-gauge/psi_gauge/{}'\n",
    "LOCAL_PATH = \"./xml_annotation/{0}.xml\"\n",
    "WIDTH = '224'\n",
    "HEIGHT = '224'\n",
    "DEPTH = '1'\n",
    "XMIN = '10'\n",
    "YMIN = '10'\n",
    "XMAX = '214'\n",
    "YMAX = '214'"
   ]
  },
  {
   "cell_type": "code",
   "execution_count": null,
   "metadata": {},
   "outputs": [],
   "source": [
    "def make_xml_file(filename, name, abs_path):\n",
    "    # define the variables\n",
    "    FILENAME = filename\n",
    "    NAME = name\n",
    "    # create the file structure\n",
    "    annotation = ET.Element('annotation')\n",
    "    folder = ET.SubElement(annotation, 'folder')  \n",
    "    filename = ET.SubElement(annotation, 'filename')\n",
    "    path = ET.SubElement(annotation, 'path')\n",
    "    source = ET.SubElement(annotation, 'source')\n",
    "    database = ET.SubElement(source, 'database')\n",
    "    size = ET.SubElement(annotation, 'size')\n",
    "    width = ET.SubElement(size, 'width')\n",
    "    height = ET.SubElement(size, 'height')\n",
    "    depth = ET.SubElement(size, 'depth')\n",
    "    segmented = ET.SubElement(annotation, 'segmented')\n",
    "    obj = ET.SubElement(annotation, 'object')\n",
    "    name = ET.SubElement(obj, 'name')\n",
    "    pose = ET.SubElement(obj, 'pose')\n",
    "    truncated = ET.SubElement(obj, 'truncated')\n",
    "    difficult = ET.SubElement(obj, 'difficult')\n",
    "    bndbox = ET.SubElement(obj, 'bndbox')\n",
    "    xmin = ET.SubElement(bndbox, 'xmin')\n",
    "    ymin = ET.SubElement(bndbox, 'ymin')\n",
    "    xmax = ET.SubElement(bndbox, 'xmax')\n",
    "    ymax = ET.SubElement(bndbox, 'ymax')\n",
    "\n",
    "    # Populate the text between the tags\n",
    "    annotation.set('verified','yes') \n",
    "    folder.text = FOLDER\n",
    "    filename.text = FILENAME\n",
    "    path.text = PATH.format(abs_path)\n",
    "    database.text = 'Unknown'\n",
    "    width.text = WIDTH\n",
    "    height.text = HEIGHT\n",
    "    depth.text = DEPTH\n",
    "    segmented.text = '0'\n",
    "    name.text = NAME\n",
    "    pose.text = 'Unspecified'\n",
    "    truncated.text = '0'\n",
    "    difficult.text = '0'\n",
    "    xmin.text = XMIN\n",
    "    ymin.text = YMIN\n",
    "    xmax.text = XMAX\n",
    "    ymax.text = YMAX\n",
    "\n",
    "    # create a new XML file with the results\n",
    "    mydata = ET.tostring(annotation)  \n",
    "    file = LOCAL_PATH.format(NAME)\n",
    "    myfile = open(file, \"wb\")  \n",
    "    myfile.write(mydata) "
   ]
  },
  {
   "cell_type": "code",
   "execution_count": null,
   "metadata": {},
   "outputs": [],
   "source": [
    "dirList = glob.glob(\"classes/*/*.jpg\")\n",
    "X_img_paths = ['{}'.format(file) for file in dirList]"
   ]
  },
  {
   "cell_type": "code",
   "execution_count": null,
   "metadata": {},
   "outputs": [],
   "source": [
    "# iterate through the images\n",
    "for img in X_img_paths:\n",
    "    # split on / and join the names with an _\n",
    "    split = img.split('/')\n",
    "    name = \"_\".join(split[2:]).replace('.jpg','')\n",
    "    make_xml_file(split[-1], name, img)    "
   ]
  },
  {
   "cell_type": "code",
   "execution_count": null,
   "metadata": {},
   "outputs": [],
   "source": []
  }
 ],
 "metadata": {
  "kernelspec": {
   "display_name": "Python 3",
   "language": "python",
   "name": "python3"
  },
  "language_info": {
   "codemirror_mode": {
    "name": "ipython",
    "version": 3
   },
   "file_extension": ".py",
   "mimetype": "text/x-python",
   "name": "python",
   "nbconvert_exporter": "python",
   "pygments_lexer": "ipython3",
   "version": "3.6.5"
  }
 },
 "nbformat": 4,
 "nbformat_minor": 2
}
