{
 "cells": [
  {
   "cell_type": "code",
   "execution_count": null,
   "metadata": {},
   "outputs": [],
   "source": [
    "import requests, pprint, json\n",
    "from urllib.parse import urlencode\n",
    "# from collections import OrderedDict"
   ]
  },
  {
   "cell_type": "code",
   "execution_count": null,
   "metadata": {},
   "outputs": [],
   "source": [
    "lst = [0,50,100,150,200,250,300]\n",
    "# lst = [0,50]\n",
    "token = 'yFVVdW2yogKoKvP5wDH4qajIaMhPvar3NkAfQV4BpF-ITSeYtaBoOg2MpSd4WucTD3z87fwotc7j4rSCQcTNi0Qdb04AfMsmz2MyOZxiE6pMGNDXGHl0j0BapSXpWnYx'\n",
    "headers = {\n",
    "    'authorization': \"Bearer \" + token,\n",
    "    'content-type': \"application/json\",\n",
    "    'cache-control': \"no-cache\",\n",
    "}\n",
    "output = set()\n",
    "output_n = set()\n",
    "for index, item in enumerate(lst):\n",
    "    enc = {\n",
    "        'categories':'pets, All',\n",
    "        'location': 'St. Louis, MO',\n",
    "        'limit': 50,\n",
    "        'offset': item\n",
    "    }\n",
    "    encode = urlencode(enc)\n",
    "    url = \"https://api.yelp.com/v3/businesses/search?{0}\".format(encode)\n",
    "    response = requests.request(\"GET\", url, headers=headers)\n",
    "    payload = json.loads(response.text)\n",
    "    \n",
    "    for idx, business in enumerate(payload['businesses']):\n",
    "        for i, category in enumerate(business['categories']):\n",
    "            output.add(category['alias'])\n",
    "            output_n.add(category['title'])\n",
    "pprint.pprint(output)\n",
    "pprint.pprint(output_n)\n",
    "\n",
    "# for\n",
    "insert='INSERT INTO public.pin_type(id, name, description) VALUES (?, ?, ?);'\n",
    "#     pprint.pprint(payload)\n",
    "#     print(len(payload['businesses']))"
   ]
  },
  {
   "cell_type": "code",
   "execution_count": null,
   "metadata": {},
   "outputs": [],
   "source": [
    "categories = {\n",
    "'animalshelters': 'Animal Shelters',\n",
    "'aquariums':'Aquariums',\n",
    "'aquariumservices':'Aquarium Services',\n",
    "'birdshops':'Bird Shops',\n",
    "'dogwalkers':'Dog Walkers',\n",
    "'groomer':'Pet Groomers',\n",
    "'localfishstores':'Local Fish Stores',\n",
    "'pet_sitting':'Pet Sitting',\n",
    "'pet_training':'Pet Training',\n",
    "'petadoption':'Pet Adoption',\n",
    "'petboarding':'Pet Boarding',\n",
    "'pethospice':'Pet Hospice',\n",
    "'petinsurance':'Pet Insurance',\n",
    "'petphotography':'Pet Photography',\n",
    "'pets': 'Pets',\n",
    "'petservices':'Pet Services',\n",
    "'petstore':'Pet Stores',\n",
    "'pettransport':'Pet Transportation',\n",
    "'petwasteremoval':'Pet Waste Removal',\n",
    "'vet':'Veterinarians'\n",
    "}\n",
    "insert='INSERT INTO public.pin_type(name, description) VALUES ({0}, {1});'\n",
    "for key, value in categories.items():\n",
    "    print(insert.format(key,value))\n",
    "\n",
    "# for c, n in enumerate(categories):\n",
    "#     print([c])"
   ]
  },
  {
   "cell_type": "code",
   "execution_count": null,
   "metadata": {
    "collapsed": true
   },
   "outputs": [],
   "source": []
  }
 ],
 "metadata": {
  "kernelspec": {
   "display_name": "Python 3",
   "language": "python",
   "name": "python3"
  },
  "language_info": {
   "codemirror_mode": {
    "name": "ipython",
    "version": 3
   },
   "file_extension": ".py",
   "mimetype": "text/x-python",
   "name": "python",
   "nbconvert_exporter": "python",
   "pygments_lexer": "ipython3",
   "version": "3.6.0"
  }
 },
 "nbformat": 4,
 "nbformat_minor": 2
}
