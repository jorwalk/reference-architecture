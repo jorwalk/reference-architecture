{
 "cells": [
  {
   "cell_type": "code",
   "execution_count": 1,
   "metadata": {
    "collapsed": true
   },
   "outputs": [],
   "source": [
    "import requests, pprint, json, sets\n",
    "from urllib.parse import urlencode"
   ]
  },
  {
   "cell_type": "code",
   "execution_count": null,
   "metadata": {
    "collapsed": true
   },
   "outputs": [],
   "source": [
    "def yelp(offset):"
   ]
  },
  {
   "cell_type": "code",
   "execution_count": 17,
   "metadata": {},
   "outputs": [
    {
     "name": "stdout",
     "output_type": "stream",
     "text": [
      "{'gardening', 'petadoption', 'petservices', 'petstore', 'pettransport', 'pet_sitting', 'animalshelters', 'petboarding', 'pethospice', 'dogwalkers', 'vet', 'localfishstores', 'aquariumservices', 'petphotography', 'sessionphotography', 'groomer', 'pets', 'landscaping', 'pet_training'}\n"
     ]
    }
   ],
   "source": [
    "# lst = [0,50,100,150,200,250,300]\n",
    "lst = [0,50]\n",
    "token = 'yFVVdW2yogKoKvP5wDH4qajIaMhPvar3NkAfQV4BpF-ITSeYtaBoOg2MpSd4WucTD3z87fwotc7j4rSCQcTNi0Qdb04AfMsmz2MyOZxiE6pMGNDXGHl0j0BapSXpWnYx'\n",
    "headers = {\n",
    "    'authorization': \"Bearer \" + token,\n",
    "    'content-type': \"application/json\",\n",
    "    'cache-control': \"no-cache\",\n",
    "}\n",
    "output = set()\n",
    "for index, item in enumerate(lst):\n",
    "    enc = {\n",
    "        'categories':'pets, All',\n",
    "        'location': 'St. Louis, MO',\n",
    "        'limit': 50,\n",
    "        'offset': item\n",
    "    }\n",
    "    encode = urlencode(enc)\n",
    "    url = \"https://api.yelp.com/v3/businesses/search?{0}\".format(encode)\n",
    "    response = requests.request(\"GET\", url, headers=headers)\n",
    "    payload = json.loads(response.text)\n",
    "    \n",
    "    for idx, business in enumerate(payload['businesses']):\n",
    "        for i, category in enumerate(business['categories']):\n",
    "            output.add(category['alias'])\n",
    "print(output)\n",
    "#     pprint.pprint(payload)\n",
    "#     print(len(payload['businesses']))"
   ]
  },
  {
   "cell_type": "code",
   "execution_count": null,
   "metadata": {
    "collapsed": true
   },
   "outputs": [],
   "source": []
  }
 ],
 "metadata": {
  "kernelspec": {
   "display_name": "Python 3",
   "language": "python",
   "name": "python3"
  },
  "language_info": {
   "codemirror_mode": {
    "name": "ipython",
    "version": 3
   },
   "file_extension": ".py",
   "mimetype": "text/x-python",
   "name": "python",
   "nbconvert_exporter": "python",
   "pygments_lexer": "ipython3",
   "version": "3.6.0"
  }
 },
 "nbformat": 4,
 "nbformat_minor": 2
}
