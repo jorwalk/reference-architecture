{
 "cells": [
  {
   "cell_type": "markdown",
   "metadata": {},
   "source": [
    "# Using Unsupervised Learning to plan her Paris Vacation: A Clustering Problem"
   ]
  },
  {
   "cell_type": "markdown",
   "metadata": {},
   "source": [
    "## Preparing the data"
   ]
  },
  {
   "cell_type": "code",
   "execution_count": null,
   "metadata": {},
   "outputs": [],
   "source": [
    "import pandas as pd\n",
    "import matplotlib\n",
    "import matplotlib.pyplot as plt\n",
    "import numpy as np\n",
    "from bs4 import BeautifulSoup as Soup"
   ]
  },
  {
   "cell_type": "code",
   "execution_count": null,
   "metadata": {},
   "outputs": [],
   "source": [
    "map_kml = \"doc.kml\" # imported kml file from Google Maps\n",
    "with open('doc.kml') as data:\n",
    "    kml_soup = Soup(data, 'lxml-xml') # Parse as XML\n",
    "coords = kml_soup.find_all('coordinates') # find all the coordinates\n",
    "coords_list = []\n",
    "for x in coords:\n",
    "    coords_list.append(str(x)) # store the coordinates in a list"
   ]
  },
  {
   "cell_type": "code",
   "execution_count": null,
   "metadata": {},
   "outputs": [],
   "source": [
    "names = kml_soup.find_all('name') # find all the coordinates\n",
    "names_list = []\n",
    "for x in names:\n",
    "    names_list.append(str(x)) # store the coordinates in a list"
   ]
  },
  {
   "cell_type": "code",
   "execution_count": null,
   "metadata": {},
   "outputs": [],
   "source": [
    "# create new dataframe\n",
    "coord_col = ['Longitude', 'Latitude', 'Landmark']\n",
    "df_coord = pd.DataFrame(columns=coord_col) \n",
    "# split coordinates list into coordinates to populate the dataframe\n",
    "for i, j in zip(range(len(coords_list)), range(2, len(names_list))):\n",
    "    item = coords_list[i]\n",
    "    string_split = item.split(',')\n",
    "    coord1 = float(string_split[0][26:])\n",
    "    coord2 = float(string_split[1])\n",
    "    coord3 = names_list[j][6:-7]\n",
    "    df_coord.loc[i] = [coord1, coord2, coord3]"
   ]
  },
  {
   "cell_type": "code",
   "execution_count": null,
   "metadata": {},
   "outputs": [],
   "source": [
    "df_coord"
   ]
  },
  {
   "cell_type": "code",
   "execution_count": null,
   "metadata": {},
   "outputs": [],
   "source": [
    "fig = plt.figure(figsize=(16,8))\n",
    "cmap=plt.cm.rainbow\n",
    "norm = matplotlib.colors.BoundaryNorm(np.arange(0,10,1), cmap.N)\n",
    "plt.scatter(df_coord['Longitude'], df_coord['Latitude'],\n",
    "            cmap=cmap, norm=norm, s=150, edgecolor='none')\n",
    "plt.xlabel('Latitude', fontsize=18)\n",
    "plt.ylabel('Longitude', fontsize=18)\n",
    "plt.grid()\n",
    "plt.show()"
   ]
  },
  {
   "cell_type": "markdown",
   "metadata": {},
   "source": [
    "## k-means Clustering of Geo Locations"
   ]
  },
  {
   "cell_type": "code",
   "execution_count": null,
   "metadata": {},
   "outputs": [],
   "source": [
    "from sklearn.cluster import KMeans # Importing KMeans\n",
    "# Creating an instance of KMeans to find 10 clusters\n",
    "kmeans_1 = KMeans(n_clusters=10)\n",
    "# Using fit_predict to cluster the dataset\n",
    "X = df_coord[['Longitude','Latitude']].values\n",
    "predictions = kmeans_1.fit_predict(X)"
   ]
  },
  {
   "cell_type": "code",
   "execution_count": null,
   "metadata": {},
   "outputs": [],
   "source": [
    "clustered = pd.concat([df_coord.reset_index(), \n",
    "                       pd.DataFrame({'Cluster':predictions})], \n",
    "                      axis=1)"
   ]
  },
  {
   "cell_type": "code",
   "execution_count": null,
   "metadata": {},
   "outputs": [],
   "source": [
    "clustered.drop('index', axis=1, inplace=True)"
   ]
  },
  {
   "cell_type": "code",
   "execution_count": null,
   "metadata": {},
   "outputs": [],
   "source": [
    "conditions = [\n",
    "    clustered['Cluster'] == 0, \n",
    "    clustered['Cluster'] == 1,\n",
    "    clustered['Cluster'] == 2,\n",
    "    clustered['Cluster'] == 3,\n",
    "    clustered['Cluster'] == 4,\n",
    "    clustered['Cluster'] == 5,\n",
    "    clustered['Cluster'] == 6,\n",
    "    clustered['Cluster'] == 7,\n",
    "    clustered['Cluster'] == 8,\n",
    "    clustered['Cluster'] == 9 ]\n",
    "choices = ['Monday', 'Tuesday', 'Wednesday', 'Thursday', 'Friday','Saturday', \n",
    "           'Sunday', 'Monday', 'Tuesday', 'Wednesday' ]\n",
    "clustered['Vacation Day'] = np.select(conditions, choices, default='black')"
   ]
  },
  {
   "cell_type": "code",
   "execution_count": null,
   "metadata": {},
   "outputs": [],
   "source": [
    "clustered.sort_values(by=['Cluster'])"
   ]
  },
  {
   "cell_type": "code",
   "execution_count": null,
   "metadata": {},
   "outputs": [],
   "source": [
    "fig = plt.figure(figsize=(16,8))\n",
    "cmap=plt.cm.rainbow\n",
    "norm = matplotlib.colors.BoundaryNorm(np.arange(0,10,1), cmap.N)\n",
    "plt.scatter(clustered['Longitude'], clustered['Latitude'], c=clustered['Cluster'],\n",
    "            cmap=cmap, norm=norm, s=150, edgecolor='none')\n",
    "plt.colorbar(ticks=np.linspace(0,9,10))\n",
    "centers = kmeans_1.cluster_centers_\n",
    "plt.scatter(centers[:, 0], centers[:, 1], c='black', s=100, alpha=0.3);\n",
    "#plt.xlim(2.28, 2.375)\n",
    "#plt.ylim(48.84, 48.89)\n",
    "plt.xlabel('Latitude', fontsize=14)\n",
    "plt.ylabel('Longitude', fontsize=14)\n",
    "plt.title('k-means clustering results (n_clusters=10)', fontsize=14)\n",
    "plt.grid()\n",
    "plt.show()"
   ]
  },
  {
   "cell_type": "code",
   "execution_count": null,
   "metadata": {},
   "outputs": [],
   "source": [
    "fig = plt.figure(figsize=(16,8))\n",
    "cmap=plt.cm.rainbow\n",
    "norm = matplotlib.colors.BoundaryNorm(np.arange(0,10,1), cmap.N)\n",
    "plt.scatter(clustered['Longitude'], clustered['Latitude'], c=clustered['Cluster'],\n",
    "            cmap=cmap, norm=norm, s=150, edgecolor='none')\n",
    "plt.colorbar(ticks=np.linspace(0,9,10))\n",
    "centers = kmeans_1.cluster_centers_\n",
    "plt.scatter(centers[:, 0], centers[:, 1], c='black', s=100, alpha=0.3);\n",
    "plt.xlim(2.28, 2.375)\n",
    "plt.ylim(48.84, 48.89)\n",
    "plt.xlabel('Latitude', fontsize=14)\n",
    "plt.ylabel('Longitude', fontsize=14)\n",
    "plt.title('k-means clustering results (n_clusters=10)', fontsize=14)\n",
    "plt.grid()\n",
    "plt.show()"
   ]
  },
  {
   "cell_type": "markdown",
   "metadata": {},
   "source": [
    "## HDBSCAN Clustering of Geo Locations"
   ]
  },
  {
   "cell_type": "code",
   "execution_count": null,
   "metadata": {},
   "outputs": [],
   "source": [
    "import hdbscan"
   ]
  },
  {
   "cell_type": "code",
   "execution_count": null,
   "metadata": {},
   "outputs": [],
   "source": [
    "rads = np.radians(X)\n",
    "clusterer = hdbscan.HDBSCAN(min_cluster_size=2, metric='haversine')\n",
    "predictions = clusterer.fit_predict(rads)"
   ]
  },
  {
   "cell_type": "code",
   "execution_count": null,
   "metadata": {},
   "outputs": [],
   "source": [
    "clustered = pd.concat([df_coord.reset_index(), \n",
    "                       pd.DataFrame({'Cluster':predictions})], \n",
    "                      axis=1)\n",
    "clustered.drop('index', axis=1, inplace=True)\n",
    "conditions = [\n",
    "    clustered['Cluster'] == -1, \n",
    "    clustered['Cluster'] == 0,\n",
    "    clustered['Cluster'] == 1,\n",
    "    clustered['Cluster'] == 2,\n",
    "    clustered['Cluster'] == 3,\n",
    "    clustered['Cluster'] == 4,\n",
    "    clustered['Cluster'] == 5,\n",
    "    clustered['Cluster'] == 6,\n",
    "    clustered['Cluster'] == 7,\n",
    "    clustered['Cluster'] == 8 ]\n",
    "choices = ['NA/Noise', 'Monday', 'Tuesday', 'Wednesday', 'Thursday', \n",
    "           'Friday','Saturday', 'Sunday', 'Monday', 'Tuesday' ]\n",
    "clustered['Vacation Day'] = np.select(conditions, choices, default='black')\n",
    "clustered.sort_values(by=['Cluster'])"
   ]
  },
  {
   "cell_type": "code",
   "execution_count": null,
   "metadata": {},
   "outputs": [],
   "source": [
    "fig = plt.figure(figsize=(16,8))\n",
    "cmap=plt.cm.gnuplot2\n",
    "#norm = matplotlib.colors.BoundaryNorm(np.arange(0,10,1), cmap.N)\n",
    "plt.scatter(clustered['Longitude'], clustered['Latitude'], c=clustered['Cluster'],\n",
    "            cmap=cmap, s=100, edgecolor='none')\n",
    "plt.colorbar(ticks=[-1,0,1,2,3,4,5,6,7,8])\n",
    "centers = kmeans_1.cluster_centers_\n",
    "plt.scatter(centers[:, 0], centers[:, 1], c='black', s=100, alpha=0.3);\n",
    "#plt.xlim(2.28, 2.375)\n",
    "#plt.ylim(48.84, 48.89)\n",
    "plt.xlabel('Latitude', fontsize=14)\n",
    "plt.ylabel('Longitude', fontsize=14)\n",
    "plt.title('HDBSCAN clustering results', fontsize=14)\n",
    "plt.grid()\n",
    "plt.show()"
   ]
  },
  {
   "cell_type": "code",
   "execution_count": null,
   "metadata": {},
   "outputs": [],
   "source": [
    "fig = plt.figure(figsize=(16,8))\n",
    "cmap=plt.cm.gnuplot2\n",
    "#norm = matplotlib.colors.BoundaryNorm(np.arange(0,10,1), cmap.N)\n",
    "plt.scatter(clustered['Longitude'], clustered['Latitude'], c=clustered['Cluster'],\n",
    "            cmap=cmap, s=100, edgecolor='none')\n",
    "plt.colorbar(ticks=[-1,0,1,2,3,4,5,6,7,8])\n",
    "centers = kmeans_1.cluster_centers_\n",
    "plt.scatter(centers[:, 0], centers[:, 1], c='black', s=100, alpha=0.3);\n",
    "plt.xlim(2.28, 2.375)\n",
    "plt.ylim(48.84, 48.89)\n",
    "plt.xlabel('Latitude', fontsize=14)\n",
    "plt.ylabel('Longitude', fontsize=14)\n",
    "plt.title('HDBSCAN clustering results', fontsize=14)\n",
    "plt.grid()\n",
    "plt.show()"
   ]
  }
 ],
 "metadata": {
  "kernelspec": {
   "display_name": "Python 3",
   "language": "python",
   "name": "python3"
  },
  "language_info": {
   "codemirror_mode": {
    "name": "ipython",
    "version": 3
   },
   "file_extension": ".py",
   "mimetype": "text/x-python",
   "name": "python",
   "nbconvert_exporter": "python",
   "pygments_lexer": "ipython3",
   "version": "3.6.5"
  }
 },
 "nbformat": 4,
 "nbformat_minor": 2
}
